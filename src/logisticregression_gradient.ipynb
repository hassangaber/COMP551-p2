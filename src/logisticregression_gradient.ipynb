{
 "cells": [
  {
   "cell_type": "code",
   "execution_count": 1,
   "id": "e979f49e",
   "metadata": {},
   "outputs": [],
   "source": [
    "import numpy as np\n",
    "import pandas as pd\n",
    "import matplotlib.pyplot as plt"
   ]
  },
  {
   "cell_type": "code",
   "execution_count": 2,
   "id": "fe246bb5",
   "metadata": {},
   "outputs": [],
   "source": [
    "# Sigmoid function for logistic regression\n",
    "sig = lambda z: 1./ (1 + np.exp(-z))"
   ]
  },
  {
   "cell_type": "code",
   "execution_count": 4,
   "id": "ca9a26ea",
   "metadata": {},
   "outputs": [],
   "source": [
    "# Cost function: represents error between predicted and expected value\n",
    "# as an index. It is a measure of how good the model is\n",
    "def cost(x,y,w)->float:\n",
    "    # z = w.T @ x\n",
    "    z = np.dot(x,w)\n",
    "    # Mean of the minimized function\n",
    "    J = np.mean(y*np.log1p(np.exp(-z)) + (1-y)*np.log1p(np.exp(z)))\n",
    "    return J"
   ]
  },
  {
   "cell_type": "code",
   "execution_count": 6,
   "id": "1a80da60",
   "metadata": {},
   "outputs": [],
   "source": [
    "# In order to minimize the cost function, or optimize the model\n",
    "# gradient descent will be utilized\n",
    "# This gradient descent function minimizes the cost function wrt weights\n",
    "def grad(self,x,y):\n",
    "    N = x.shape\n",
    "    # Probability value at x\n",
    "    yhat = sig(np.dot(x, self.w))\n",
    "    # Cost of each point\n",
    "    grad = np.dot(x.T, yhat - y)/N\n",
    "    return grad"
   ]
  },
  {
   "cell_type": "code",
   "execution_count": 11,
   "id": "7f226b9f",
   "metadata": {},
   "outputs": [],
   "source": [
    "# Implementation of the logisitic regression method with a gd method to implement sgd\n",
    "class LogisticRegression:\n",
    "    \n",
    "    # Constructor\n",
    "    def __init__(self, add_bias=True, learning_rate=.1, epsilon=1e-4, max_iters=1e5, verbose=False):\n",
    "        self.add_bias = add_bias\n",
    "        self.learning_rate = learning_rate\n",
    "        self.epsilon = epsilon                        \n",
    "        self.max_iters = max_iters \n",
    "        \n",
    "    def fit(self, x, y):\n",
    "        if x.ndim == 1:\n",
    "            x = x[:, None]\n",
    "        if self.add_bias:\n",
    "            N = x.shape[0]\n",
    "            x = np.column_stack([x,np.ones(N)])\n",
    "        N,D = x.shape\n",
    "        self.w = np.zeros(D)\n",
    "        g = np.inf \n",
    "        t = 0\n",
    "        # gradient descent\n",
    "        while np.linalg.norm(g) > self.epsilon and t < self.max_iters:\n",
    "            g = self.grad(x, y)\n",
    "            self.w = self.w - self.learning_rate * g \n",
    "            t += 1\n",
    "        \n",
    "        if self.verbose:\n",
    "            print(f'Iterations: {t}, Norm(grad) = {np.linalg.norm(g)}')\n",
    "            print(f'Weights: {self.w}')\n",
    "        return self\n",
    "    \n",
    "    def predict(self, x):\n",
    "        if x.ndim == 1:\n",
    "            x = x[:, None]\n",
    "        Nt = x.shape[0]\n",
    "        if self.add_bias:\n",
    "            x = np.column_stack([x,np.ones(Nt)])\n",
    "        yh = sig(np.dot(x,self.w))     \n",
    "        return yh\n",
    "\n",
    "logisticregression.grad = grad"
   ]
  }
 ],
 "metadata": {
  "kernelspec": {
   "display_name": "Python 3",
   "language": "python",
   "name": "python3"
  },
  "language_info": {
   "codemirror_mode": {
    "name": "ipython",
    "version": 3
   },
   "file_extension": ".py",
   "mimetype": "text/x-python",
   "name": "python",
   "nbconvert_exporter": "python",
   "pygments_lexer": "ipython3",
   "version": "3.8.8"
  }
 },
 "nbformat": 4,
 "nbformat_minor": 5
}
