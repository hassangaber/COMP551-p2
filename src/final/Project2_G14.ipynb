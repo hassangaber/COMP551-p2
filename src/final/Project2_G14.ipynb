{
 "cells": [
  {
   "cell_type": "markdown",
   "id": "d5768a7f",
   "metadata": {},
   "source": [
    "# Mini-Project 2 Part 1 & Part 2 Notebook\n",
    "\n",
    "# Part 1: Gradient Descent Experiments with Diabetes Dataset"
   ]
  },
  {
   "cell_type": "code",
   "execution_count": 1,
   "id": "81e86048",
   "metadata": {},
   "outputs": [],
   "source": [
    "# Ignoring overflow warnings\n",
    "import warnings\n",
    "warnings.filterwarnings('ignore')\n",
    "\n",
    "# Importing Standard Libraries\n",
    "import numpy as np\n",
    "import pandas as pd\n",
    "from matplotlib import pyplot as plt\n",
    "from sklearn.linear_model import SGDClassifier\n",
    "from sklearn.metrics import accuracy_score\n",
    "from sklearn.utils import shuffle\n",
    "\n",
    "# Importing Logistic Regression class\n",
    "import full_batch as gd\n",
    "import mini_batch as mgd\n",
    "\n",
    "#Importing sklearn tools for text classification\n",
    "from sklearn.feature_extraction.text import CountVectorizer\n",
    "from sklearn.linear_model import LogisticRegression\n",
    "from sklearn import metrics\n",
    "\n",
    "# Importing diabetes csv data\n",
    "train = pd.read_csv('../../data/diabetes/diabetes_train.csv')\n",
    "test = pd.read_csv('../../data/diabetes/diabetes_test.csv')\n",
    "valid = pd.read_csv('../../data/diabetes/diabetes_val.csv')\n",
    "all_data = pd.concat([train, test, valid], axis=0)"
   ]
  },
  {
   "cell_type": "markdown",
   "id": "bf425a50",
   "metadata": {},
   "source": [
    "## Part 1.1: optimizing the maximum iterations and learning rate parameters for the data"
   ]
  },
  {
   "cell_type": "code",
   "execution_count": 5,
   "id": "599b0606",
   "metadata": {},
   "outputs": [],
   "source": [
    "def optimize(data, max_iter, learning_rate, pred_data,e=9.5e-3, mom=0):\n",
    "    \"\"\"\n",
    "    Optimize a logisitic regression model's weights using gradient descent.\n",
    "    This function makes it easier to test different combinations of the\n",
    "    maximum iterations and learning rate parameters. \n",
    "    data:           [pd.DataFrame]  Training or Training+Validation data\n",
    "    max_iter:       [int]           Maximum Iterations of gradient descent\n",
    "    learning_rate:  [float]\n",
    "    pred_data:      [pd.DataFrame]\n",
    "    returns array of class probabilities\n",
    "    \"\"\"\n",
    "    # preformance metric\n",
    "    totAcc = []\n",
    "    \n",
    "    # Input data, features and binary labels column\n",
    "    Xin = data.drop('Outcome',axis=1).to_numpy()\n",
    "    Yin = data['Outcome'].to_numpy()\n",
    "    # Data to run prediction on\n",
    "    Xp = pred_data.drop('Outcome',axis=1).to_numpy()\n",
    "    Yp = pred_data['Outcome'].to_numpy().ravel()\n",
    "    \n",
    "    # Iterate through the input parameters\n",
    "    for l in learning_rate:\n",
    "        for m in max_iter:\n",
    "            prediction = []\n",
    "            temp = []\n",
    "            \n",
    "            print(f'\\n LEARNING RATE: {l}')\n",
    "            model = gd.LogisticRegression(verbose=True, add_bias=True, learning_rate=l, max_iters=m,epsilon=e,momentum=mom)\n",
    "            yh = model.fit(Xin,Yin).predict(Xp)\n",
    "            temp.append(yh)\n",
    "        \n",
    "            # Decision Boundary\n",
    "            for x in np.array(temp).ravel():\n",
    "                if x < 0.5: prediction.append(0)\n",
    "                else: prediction.append(1)\n",
    "                    \n",
    "            Acc = accuracy_score(Yp,np.array(prediction).ravel())\n",
    "            totAcc.append(Acc)\n",
    "            print(\"Accuracy Score:\", Acc)\n",
    "    \n",
    "    print(f'Maximum Test Accuracy achieved: {max(totAcc)} for the combination {learning_rate} and {max_iter}')"
   ]
  },
  {
   "cell_type": "code",
   "execution_count": 3,
   "id": "4755e69d",
   "metadata": {},
   "outputs": [
    {
     "name": "stdout",
     "output_type": "stream",
     "text": [
      "RESULTS ON TEST SET: \n",
      "\n",
      "\n",
      " LEARNING RATE: 0.0002\n",
      "Convergence: 1000000 Iterations\n",
      "Norm of gradient: 0.013429351710347736\n",
      "Accuracy Score: 0.7794117647058824\n",
      "Maximum Test Accuracy achieved: 0.7794117647058824 for the combination [0.0002] and [1000000.0]\n",
      "RESULTS ON VALIDATION SET: \n",
      "\n",
      "\n",
      " LEARNING RATE: 0.0002\n"
     ]
    },
    {
     "ename": "KeyboardInterrupt",
     "evalue": "",
     "output_type": "error",
     "traceback": [
      "\u001b[0;31m---------------------------------------------------------------------------\u001b[0m",
      "\u001b[0;31mKeyboardInterrupt\u001b[0m                         Traceback (most recent call last)",
      "\u001b[0;32m<ipython-input-3-bf3ffc217407>\u001b[0m in \u001b[0;36m<module>\u001b[0;34m\u001b[0m\n\u001b[1;32m      7\u001b[0m \u001b[0;34m\u001b[0m\u001b[0m\n\u001b[1;32m      8\u001b[0m \u001b[0mprint\u001b[0m\u001b[0;34m(\u001b[0m\u001b[0;34m\"RESULTS ON VALIDATION SET: \\n\"\u001b[0m\u001b[0;34m)\u001b[0m\u001b[0;34m\u001b[0m\u001b[0;34m\u001b[0m\u001b[0m\n\u001b[0;32m----> 9\u001b[0;31m \u001b[0moptimize\u001b[0m\u001b[0;34m(\u001b[0m\u001b[0mdata\u001b[0m\u001b[0;34m=\u001b[0m\u001b[0mtrain\u001b[0m\u001b[0;34m,\u001b[0m \u001b[0mmax_iter\u001b[0m\u001b[0;34m=\u001b[0m\u001b[0mm\u001b[0m\u001b[0;34m,\u001b[0m \u001b[0mlearning_rate\u001b[0m\u001b[0;34m=\u001b[0m\u001b[0ml\u001b[0m\u001b[0;34m,\u001b[0m \u001b[0mpred_data\u001b[0m\u001b[0;34m=\u001b[0m\u001b[0mvalid\u001b[0m\u001b[0;34m)\u001b[0m\u001b[0;34m\u001b[0m\u001b[0;34m\u001b[0m\u001b[0m\n\u001b[0m",
      "\u001b[0;32m<ipython-input-2-a3dbb4e59cf3>\u001b[0m in \u001b[0;36moptimize\u001b[0;34m(data, max_iter, learning_rate, pred_data, e, mom)\u001b[0m\n\u001b[1;32m     28\u001b[0m             \u001b[0mprint\u001b[0m\u001b[0;34m(\u001b[0m\u001b[0;34mf'\\n LEARNING RATE: {l}'\u001b[0m\u001b[0;34m)\u001b[0m\u001b[0;34m\u001b[0m\u001b[0;34m\u001b[0m\u001b[0m\n\u001b[1;32m     29\u001b[0m             \u001b[0mmodel\u001b[0m \u001b[0;34m=\u001b[0m \u001b[0mgd\u001b[0m\u001b[0;34m.\u001b[0m\u001b[0mLogisticRegression\u001b[0m\u001b[0;34m(\u001b[0m\u001b[0mverbose\u001b[0m\u001b[0;34m=\u001b[0m\u001b[0;32mTrue\u001b[0m\u001b[0;34m,\u001b[0m \u001b[0madd_bias\u001b[0m\u001b[0;34m=\u001b[0m\u001b[0;32mTrue\u001b[0m\u001b[0;34m,\u001b[0m \u001b[0mlearning_rate\u001b[0m\u001b[0;34m=\u001b[0m\u001b[0ml\u001b[0m\u001b[0;34m,\u001b[0m \u001b[0mmax_iters\u001b[0m\u001b[0;34m=\u001b[0m\u001b[0mm\u001b[0m\u001b[0;34m,\u001b[0m\u001b[0mepsilon\u001b[0m\u001b[0;34m=\u001b[0m\u001b[0me\u001b[0m\u001b[0;34m,\u001b[0m\u001b[0mmomentum\u001b[0m\u001b[0;34m=\u001b[0m\u001b[0mmom\u001b[0m\u001b[0;34m)\u001b[0m\u001b[0;34m\u001b[0m\u001b[0;34m\u001b[0m\u001b[0m\n\u001b[0;32m---> 30\u001b[0;31m             \u001b[0myh\u001b[0m \u001b[0;34m=\u001b[0m \u001b[0mmodel\u001b[0m\u001b[0;34m.\u001b[0m\u001b[0mfit\u001b[0m\u001b[0;34m(\u001b[0m\u001b[0mXin\u001b[0m\u001b[0;34m,\u001b[0m\u001b[0mYin\u001b[0m\u001b[0;34m)\u001b[0m\u001b[0;34m.\u001b[0m\u001b[0mpredict\u001b[0m\u001b[0;34m(\u001b[0m\u001b[0mXp\u001b[0m\u001b[0;34m)\u001b[0m\u001b[0;34m\u001b[0m\u001b[0;34m\u001b[0m\u001b[0m\n\u001b[0m\u001b[1;32m     31\u001b[0m             \u001b[0mtemp\u001b[0m\u001b[0;34m.\u001b[0m\u001b[0mappend\u001b[0m\u001b[0;34m(\u001b[0m\u001b[0myh\u001b[0m\u001b[0;34m)\u001b[0m\u001b[0;34m\u001b[0m\u001b[0;34m\u001b[0m\u001b[0m\n\u001b[1;32m     32\u001b[0m \u001b[0;34m\u001b[0m\u001b[0m\n",
      "\u001b[0;32m~/Desktop/COMP551/COMP551-p2/src/final/full_batch.py\u001b[0m in \u001b[0;36mfit\u001b[0;34m(self, x, y)\u001b[0m\n\u001b[1;32m     42\u001b[0m                 \u001b[0mg\u001b[0m \u001b[0;34m=\u001b[0m \u001b[0mself\u001b[0m\u001b[0;34m.\u001b[0m\u001b[0mgradient\u001b[0m\u001b[0;34m(\u001b[0m\u001b[0mx\u001b[0m\u001b[0;34m,\u001b[0m \u001b[0my\u001b[0m\u001b[0;34m)\u001b[0m\u001b[0;34m\u001b[0m\u001b[0;34m\u001b[0m\u001b[0m\n\u001b[1;32m     43\u001b[0m             \u001b[0;32melse\u001b[0m\u001b[0;34m:\u001b[0m\u001b[0;34m\u001b[0m\u001b[0;34m\u001b[0m\u001b[0m\n\u001b[0;32m---> 44\u001b[0;31m                 \u001b[0mg\u001b[0m \u001b[0;34m=\u001b[0m \u001b[0mself\u001b[0m\u001b[0;34m.\u001b[0m\u001b[0mgradient\u001b[0m\u001b[0;34m(\u001b[0m\u001b[0mx\u001b[0m\u001b[0;34m,\u001b[0m\u001b[0my\u001b[0m\u001b[0;34m,\u001b[0m\u001b[0mself\u001b[0m\u001b[0;34m.\u001b[0m\u001b[0mmomentum\u001b[0m\u001b[0;34m,\u001b[0m\u001b[0mg\u001b[0m\u001b[0;34m)\u001b[0m\u001b[0;34m\u001b[0m\u001b[0;34m\u001b[0m\u001b[0m\n\u001b[0m\u001b[1;32m     45\u001b[0m             \u001b[0mself\u001b[0m\u001b[0;34m.\u001b[0m\u001b[0mw\u001b[0m \u001b[0;34m=\u001b[0m \u001b[0mself\u001b[0m\u001b[0;34m.\u001b[0m\u001b[0mw\u001b[0m \u001b[0;34m-\u001b[0m \u001b[0mself\u001b[0m\u001b[0;34m.\u001b[0m\u001b[0mlearning_rate\u001b[0m \u001b[0;34m*\u001b[0m \u001b[0mg\u001b[0m\u001b[0;34m\u001b[0m\u001b[0;34m\u001b[0m\u001b[0m\n\u001b[1;32m     46\u001b[0m             \u001b[0mt\u001b[0m \u001b[0;34m+=\u001b[0m \u001b[0;36m1\u001b[0m\u001b[0;34m\u001b[0m\u001b[0;34m\u001b[0m\u001b[0m\n",
      "\u001b[0;32m~/Desktop/COMP551/COMP551-p2/src/final/full_batch.py\u001b[0m in \u001b[0;36mgradient\u001b[0;34m(self, x, y, m, prevGrad)\u001b[0m\n\u001b[1;32m      7\u001b[0m \u001b[0;32mdef\u001b[0m \u001b[0mgradient\u001b[0m\u001b[0;34m(\u001b[0m\u001b[0mself\u001b[0m\u001b[0;34m,\u001b[0m\u001b[0mx\u001b[0m\u001b[0;34m,\u001b[0m\u001b[0my\u001b[0m\u001b[0;34m,\u001b[0m\u001b[0mm\u001b[0m\u001b[0;34m=\u001b[0m\u001b[0;36m0\u001b[0m\u001b[0;34m,\u001b[0m\u001b[0mprevGrad\u001b[0m\u001b[0;34m=\u001b[0m\u001b[0;36m0\u001b[0m\u001b[0;34m)\u001b[0m\u001b[0;34m:\u001b[0m\u001b[0;34m\u001b[0m\u001b[0;34m\u001b[0m\u001b[0m\n\u001b[1;32m      8\u001b[0m     \u001b[0mN\u001b[0m\u001b[0;34m,\u001b[0m \u001b[0mD\u001b[0m \u001b[0;34m=\u001b[0m \u001b[0mx\u001b[0m\u001b[0;34m.\u001b[0m\u001b[0mshape\u001b[0m\u001b[0;34m\u001b[0m\u001b[0;34m\u001b[0m\u001b[0m\n\u001b[0;32m----> 9\u001b[0;31m     \u001b[0myh\u001b[0m \u001b[0;34m=\u001b[0m \u001b[0mlogistic\u001b[0m\u001b[0;34m(\u001b[0m\u001b[0mnp\u001b[0m\u001b[0;34m.\u001b[0m\u001b[0mdot\u001b[0m\u001b[0;34m(\u001b[0m\u001b[0mx\u001b[0m\u001b[0;34m,\u001b[0m \u001b[0mself\u001b[0m\u001b[0;34m.\u001b[0m\u001b[0mw\u001b[0m\u001b[0;34m)\u001b[0m\u001b[0;34m)\u001b[0m    \u001b[0;31m# y-hat, probability class\u001b[0m\u001b[0;34m\u001b[0m\u001b[0;34m\u001b[0m\u001b[0m\n\u001b[0m\u001b[1;32m     10\u001b[0m     \u001b[0mgrad\u001b[0m \u001b[0;34m=\u001b[0m \u001b[0mnp\u001b[0m\u001b[0;34m.\u001b[0m\u001b[0mdot\u001b[0m\u001b[0;34m(\u001b[0m\u001b[0mx\u001b[0m\u001b[0;34m.\u001b[0m\u001b[0mT\u001b[0m\u001b[0;34m,\u001b[0m \u001b[0myh\u001b[0m \u001b[0;34m-\u001b[0m \u001b[0my\u001b[0m\u001b[0;34m)\u001b[0m\u001b[0;34m/\u001b[0m\u001b[0mN\u001b[0m        \u001b[0;31m# divide by N because cost is mean over N points\u001b[0m\u001b[0;34m\u001b[0m\u001b[0;34m\u001b[0m\u001b[0m\n\u001b[1;32m     11\u001b[0m     \u001b[0mgradm\u001b[0m \u001b[0;34m=\u001b[0m \u001b[0;34m(\u001b[0m\u001b[0mm\u001b[0m\u001b[0;34m*\u001b[0m\u001b[0mprevGrad\u001b[0m\u001b[0;34m)\u001b[0m \u001b[0;34m+\u001b[0m \u001b[0;34m(\u001b[0m\u001b[0;34m(\u001b[0m\u001b[0;36m1\u001b[0m\u001b[0;34m-\u001b[0m\u001b[0mm\u001b[0m\u001b[0;34m)\u001b[0m\u001b[0;34m*\u001b[0m\u001b[0mgrad\u001b[0m\u001b[0;34m)\u001b[0m \u001b[0;31m# calculate gradient w.r.t momentum, if m=0, then gradm=grad\u001b[0m\u001b[0;34m\u001b[0m\u001b[0;34m\u001b[0m\u001b[0m\n",
      "\u001b[0;32m~/Desktop/COMP551/COMP551-p2/src/final/full_batch.py\u001b[0m in \u001b[0;36m<lambda>\u001b[0;34m(z)\u001b[0m\n\u001b[1;32m      2\u001b[0m \u001b[0;34m\u001b[0m\u001b[0m\n\u001b[1;32m      3\u001b[0m \u001b[0;31m# Logistic function\u001b[0m\u001b[0;34m\u001b[0m\u001b[0;34m\u001b[0m\u001b[0;34m\u001b[0m\u001b[0m\n\u001b[0;32m----> 4\u001b[0;31m \u001b[0mlogistic\u001b[0m \u001b[0;34m=\u001b[0m \u001b[0;32mlambda\u001b[0m \u001b[0mz\u001b[0m\u001b[0;34m:\u001b[0m \u001b[0;36m1.\u001b[0m\u001b[0;34m/\u001b[0m \u001b[0;34m(\u001b[0m\u001b[0;36m1\u001b[0m \u001b[0;34m+\u001b[0m \u001b[0mnp\u001b[0m\u001b[0;34m.\u001b[0m\u001b[0mexp\u001b[0m\u001b[0;34m(\u001b[0m\u001b[0;34m-\u001b[0m\u001b[0mz\u001b[0m\u001b[0;34m)\u001b[0m\u001b[0;34m)\u001b[0m\u001b[0;34m\u001b[0m\u001b[0;34m\u001b[0m\u001b[0m\n\u001b[0m\u001b[1;32m      5\u001b[0m \u001b[0;34m\u001b[0m\u001b[0m\n\u001b[1;32m      6\u001b[0m \u001b[0;31m# Gradient of cost curve given inputs x,y and weights\u001b[0m\u001b[0;34m\u001b[0m\u001b[0;34m\u001b[0m\u001b[0;34m\u001b[0m\u001b[0m\n",
      "\u001b[0;31mKeyboardInterrupt\u001b[0m: "
     ]
    }
   ],
   "source": [
    "# Highest scoring result on test set and validation set\n",
    "m = [1e6]\n",
    "l = [2e-4]\n",
    "\n",
    "print(\"RESULTS ON TEST SET: \\n\")\n",
    "optimize(data=train, max_iter=m, learning_rate=l, pred_data=test)\n",
    "\n",
    "print(\"RESULTS ON VALIDATION SET: \\n\")\n",
    "optimize(data=train, max_iter=m, learning_rate=l, pred_data=valid)"
   ]
  },
  {
   "cell_type": "code",
   "execution_count": 28,
   "id": "50049c9c",
   "metadata": {
    "scrolled": true
   },
   "outputs": [
    {
     "data": {
      "text/plain": [
       "<mpl_toolkits.mplot3d.art3d.Path3DCollection at 0x7ffc0bcda3d0>"
      ]
     },
     "execution_count": 28,
     "metadata": {},
     "output_type": "execute_result"
    },
    {
     "data": {
      "image/png": "[encoded data removed]",
      "text/plain": [
       "<Figure size 432x288 with 1 Axes>"
      ]
     },
     "metadata": {
      "needs_background": "light"
     },
     "output_type": "display_data"
    }
   ],
   "source": [
    "# Plot for test accuracy as a function of learning rates and maximum iterations\n",
    "\n",
    "ax = plt.axes(projection='3d', title=\"Test Accuracy = F(Learning Rate, Maximum Iterations)\")\n",
    "\n",
    "m =   [1,1,1,\n",
    "       9,9,9,\n",
    "       10,10,10,\n",
    "       90,90,90,\n",
    "       100,100,100,\n",
    "       900,900,900]\n",
    "\n",
    "l =   [1e-3,2e-3,2e-4,\n",
    "       1e-3,2e-3,2e-4,\n",
    "       1e-3,2e-3,2e-4,\n",
    "       1e-3,2e-3,2e-4,\n",
    "       1e-3,2e-3,2e-4,\n",
    "       1e-3,2e-3,2e-4]\n",
    "\n",
    "acc = [0.5147058823529411, 0.4117647058823529, 0.7205882352941176,\n",
    "       0.5, 0.4852941176470588, 0.7205882352941176,\n",
    "       0.5, 0.5, 0.7205882352941176,\n",
    "       0.5882352941176471, 0.5882352941176471, 0.7647058823529411,\n",
    "       0.5882352941176471, 0.5882352941176471, 0.7794117647058824,\n",
    "       0.6176470588235294, 0.6176470588235294, 0.75\n",
    "       ]\n",
    "\n",
    "ax.text(0,0,10,\"Red points accuracy < 0.6, Blue points accuracy > 0.6\",fontsize=15)\n",
    "\n",
    "\n",
    "ax.set_xlabel('$i_{max}(*10^{4}$)')\n",
    "ax.set_ylabel('Learning Rate')\n",
    "ax.set_zlabel('Test Accuracy ($x100\\%$)')\n",
    "\n",
    "ax.set(xlim=(0, 100), ylim=(0.0001, 0.002), zlim=(0.3,0.9))\n",
    "\n",
    "# Boundary for accuracies\n",
    "color = []\n",
    "for x in acc:\n",
    "    if x < 0.62: color.append('r')\n",
    "    else: color.append('b')\n",
    "\n",
    "ax.scatter(m, l, acc, marker='x', c=color)"
   ]
  },
  {
   "cell_type": "markdown",
   "id": "83093041",
   "metadata": {},
   "source": [
    "## Part 1.1 Results\n",
    "\n",
    "* Our base model preformed better than the Sklearn SGD logisitic classifier with a margin greater than 10%\n",
    "\n",
    "* Decision Boundary is set at X=0.5: $$P(y=1|X) < 0.5 \\rightarrow \\hat{y}=0$$ $$P(y=1|X) \\geq 0.5 \\rightarrow \\hat{y}= 1$$ \n",
    "\n",
    "\n",
    "* Best accuracy achieved on the test set was 77.9%, validation set with 77% at $\\alpha = 2 * 10^{-4}$ and $i_{max} = 1 * 10^6$\n",
    "\n",
    "* Output:\n",
    "\n",
    "```\n",
    "VALIDATION SET:\n",
    "\n",
    "LEARNING RATE: 0.0002\n",
    "1000000 Iterations\n",
    "Norm of gradient: 0.013429351710347736\n",
    "Accuracy Score: 0.77\n",
    "\n",
    "TEST SET:\n",
    "\n",
    "LEARNING RATE: 0.0002\n",
    "1000000 Iterations\n",
    "Norm of gradient: 0.013429351710347736\n",
    "Accuracy Score: 0.7794117647058824\n",
    "\n",
    "```"
   ]
  },
  {
   "cell_type": "markdown",
   "id": "b15a61c1",
   "metadata": {},
   "source": [
    "## Part 1.2 Mini-Batch Stochastic Gradient Descent & Convergence Rate"
   ]
  },
  {
   "cell_type": "markdown",
   "id": "4e02de7b",
   "metadata": {},
   "source": [
    "### Convergence Conditions\n",
    "* For the purposes of this project and from observing the past results, convergence was determined to be the conditions where accuracy was maximized and the norm of the gradient minimized (or approaching zero steadily)\n",
    "* There is some tolerance we found which was $9*10^{-4} < \\epsilon < 7.5*10^{-3}$\n",
    "* At this particular epsilon, accuracy was maximized, but after it, overfitting started to take place even though the norm of the gradient was still approaching zero"
   ]
  },
  {
   "cell_type": "code",
   "execution_count": 2,
   "id": "d8aa6168",
   "metadata": {},
   "outputs": [],
   "source": [
    "def miniBatch(data, max_iter, alpha, pred_data, size, epoch=1, e=9.5e-4, mom=0):\n",
    "    \n",
    "    # preformance metric\n",
    "    totAcc = []\n",
    "    \n",
    "    # Input data, features and binary labels column\n",
    "    Xin = data.drop('Outcome',axis=1).to_numpy()\n",
    "    Yin = data['Outcome'].to_numpy()\n",
    "    # Data to run prediction on\n",
    "    Xp = pred_data.drop('Outcome',axis=1).to_numpy()\n",
    "    Yp = pred_data['Outcome'].to_numpy().ravel()\n",
    "            \n",
    "    print(f'\\n LEARNING RATE: {alpha}, MAXIMUM ITERATIONS: {max_iter}')\n",
    "    model = mgd.LogisticRegression(verbose=True,add_bias=True,learning_rate=alpha, max_iters=max_iter,\n",
    "                                  epsilon=e, momentum=mom, batchSize=size, epochs=epoch)\n",
    "    y = model.fit(Xin,Yin)"
   ]
  },
  {
   "cell_type": "markdown",
   "id": "afc74030",
   "metadata": {},
   "source": [
    "* *NOTE* Collapse the following output because it very extensive"
   ]
  },
  {
   "cell_type": "code",
   "execution_count": null,
   "id": "90fa9551",
   "metadata": {},
   "outputs": [],
   "source": [
    "sizes = [8,16,32,64,128,150,256]\n",
    "\n",
    "for s in sizes:\n",
    "    miniBatch(data=train, max_iter=1e6, alpha=2e-4, pred_data=valid, size=s, epoch=10, e=5.5e-3)"
   ]
  },
  {
   "cell_type": "markdown",
   "id": "4261f25c",
   "metadata": {},
   "source": [
    "## Part 1.2 Results\n",
    "\n",
    "Fastest convergence per size:\n",
    "\n",
    "   - size 8  ->  61409  Iterations\n",
    "   - size 16 ->  216642 Iterations\n",
    "   - size 32 ->  15419  Iterations\n",
    "   - size 64 ->  8816   Iterations\n",
    "   - size 128->  1971 Iterations\n",
    "   - size 150->  6109 Iterations\n",
    "   - size 256->  5431 Iterations\n",
    "   \n",
    "Highest Accuracy per size:\n",
    "\n",
    "   - size 8  ->  0.69,0.67\n",
    "   - size 16 ->  0.76,0.65\n",
    "   - size 32 ->  0.72,0.64\n",
    "   - size 64 ->  0.72,0.67\n",
    "   - size 128->  0.70,0.67\n",
    "   - size 150->  0.72,0.64\n",
    "   - size 256->  0.76,0.69"
   ]
  },
  {
   "cell_type": "code",
   "execution_count": 23,
   "id": "1d296f09",
   "metadata": {},
   "outputs": [
    {
     "data": {
      "image/png": "[encoded data removed]",
      "text/plain": [
       "<Figure size 432x288 with 1 Axes>"
      ]
     },
     "metadata": {
      "needs_background": "light"
     },
     "output_type": "display_data"
    }
   ],
   "source": [
    "Tacc = [ 0.67, 0.76, 0.70, 0.72, 0.72, 0.72, 0.77]\n",
    "Vacc = [0.67,  0.65, 0.64, 0.67, 0.67, 0.64, 0.69]\n",
    "conv = [119827 , 58292 , 15419, 8816, 1971, 6109, 5431]\n",
    "sizes = [8,16,32,64,128,150,256]\n",
    "\n",
    "    \n",
    "plt.plot(sizes,conv, marker='o')\n",
    "plt.xlabel(\"Batch Size (\\ row)\")\n",
    "plt.ylabel(\"Convergence Rate (Iterations)\")\n",
    "plt.title(\"Fastest convergence rate and Batch size\")\n",
    "plt.show()"
   ]
  },
  {
   "cell_type": "code",
   "execution_count": 24,
   "id": "1d78051f",
   "metadata": {},
   "outputs": [
    {
     "data": {
      "image/png": "[encoded data removed]",
      "text/plain": [
       "<Figure size 432x288 with 1 Axes>"
      ]
     },
     "metadata": {
      "needs_background": "light"
     },
     "output_type": "display_data"
    }
   ],
   "source": [
    "plt.plot(sizes,Tacc, 'g' , marker='o',label='Test Accuracy')\n",
    "plt.plot(sizes, Vacc, 'b', marker='o', label='Validation Accuracy')\n",
    "plt.xlabel(\"Batch Size (\\ row)\")\n",
    "plt.ylabel(\"Accuracy * 100%\")\n",
    "plt.title(\"Training and validation accuracy vs Batch Size\")\n",
    "plt.show()"
   ]
  },
  {
   "cell_type": "markdown",
   "id": "7cbf64f7",
   "metadata": {},
   "source": [
    "## Part 1.3 Gradient Descent with Momentum"
   ]
  },
  {
   "cell_type": "code",
   "execution_count": 3,
   "id": "494db03d",
   "metadata": {},
   "outputs": [
    {
     "name": "stdout",
     "output_type": "stream",
     "text": [
      "\n",
      " LEARNING RATE: 0.0002, MAXIMUM ITERATIONS: 1000000.0\n",
      "Epoch: 1\n",
      "Convergence: 0 Iterations\n",
      "Norm of gradient: inf\n",
      "Batch Size: 32    TEST accuracy: 0.6323529411764706   VALIDATION accuracy: 0.56\n",
      "Epoch: 2\n",
      "Convergence: 598992 Iterations\n",
      "Norm of gradient: 0.005499998179746003\n",
      "Batch Size: 32    TEST accuracy: 0.6323529411764706   VALIDATION accuracy: 0.65\n",
      "Epoch: 3\n",
      "Convergence: 438844 Iterations\n",
      "Norm of gradient: 0.0054999930670331775\n",
      "Batch Size: 32    TEST accuracy: 0.6911764705882353   VALIDATION accuracy: 0.56\n",
      "Epoch: 4\n",
      "Convergence: 308815 Iterations\n",
      "Norm of gradient: 0.00549999203596777\n",
      "Batch Size: 32    TEST accuracy: 0.38235294117647056   VALIDATION accuracy: 0.44\n",
      "Epoch: 5\n",
      "Convergence: 365945 Iterations\n",
      "Norm of gradient: 0.005499984191512499\n",
      "Batch Size: 32    TEST accuracy: 0.5   VALIDATION accuracy: 0.58\n",
      "Epoch: 6\n",
      "Convergence: 472480 Iterations\n",
      "Norm of gradient: 0.005499996723543731\n",
      "Batch Size: 32    TEST accuracy: 0.5588235294117647   VALIDATION accuracy: 0.54\n",
      "Epoch: 7\n",
      "Convergence: 17641 Iterations\n",
      "Norm of gradient: 0.005499449330720621\n",
      "Batch Size: 32    TEST accuracy: 0.5882352941176471   VALIDATION accuracy: 0.53\n",
      "Epoch: 8\n",
      "Convergence: 507068 Iterations\n",
      "Norm of gradient: 0.005499992293088571\n",
      "Batch Size: 32    TEST accuracy: 0.5   VALIDATION accuracy: 0.48\n",
      "Epoch: 9\n",
      "Convergence: 466662 Iterations\n",
      "Norm of gradient: 0.005499982338267203\n",
      "Batch Size: 32    TEST accuracy: 0.29411764705882354   VALIDATION accuracy: 0.3\n",
      "Epoch: 10\n",
      "Convergence: 437687 Iterations\n",
      "Norm of gradient: 0.005499998304447882\n",
      "Batch Size: 32    TEST accuracy: 0.7058823529411765   VALIDATION accuracy: 0.63\n",
      "\n",
      " LEARNING RATE: 0.0002, MAXIMUM ITERATIONS: 1000000.0\n",
      "Epoch: 1\n",
      "Convergence: 0 Iterations\n",
      "Norm of gradient: inf\n",
      "Batch Size: 256    TEST accuracy: 0.7058823529411765   VALIDATION accuracy: 0.62\n",
      "Epoch: 2\n",
      "Convergence: 207852 Iterations\n",
      "Norm of gradient: 0.005499979711984526\n",
      "Batch Size: 256    TEST accuracy: 0.6911764705882353   VALIDATION accuracy: 0.63\n",
      "Epoch: 3\n",
      "Convergence: 105785 Iterations\n",
      "Norm of gradient: 0.005499989893532726\n",
      "Batch Size: 256    TEST accuracy: 0.7205882352941176   VALIDATION accuracy: 0.65\n",
      "Epoch: 4\n",
      "Convergence: 8606 Iterations\n",
      "Norm of gradient: 0.00549997944383382\n",
      "Batch Size: 256    TEST accuracy: 0.6617647058823529   VALIDATION accuracy: 0.62\n",
      "Epoch: 5\n",
      "Convergence: 216934 Iterations\n",
      "Norm of gradient: 0.005499974959626774\n",
      "Batch Size: 256    TEST accuracy: 0.6911764705882353   VALIDATION accuracy: 0.59\n",
      "Epoch: 6\n",
      "Convergence: 9610 Iterations\n",
      "Norm of gradient: 0.0054993531558688875\n",
      "Batch Size: 256    TEST accuracy: 0.7058823529411765   VALIDATION accuracy: 0.65\n",
      "Epoch: 7\n",
      "Convergence: 79611 Iterations\n",
      "Norm of gradient: 0.005499998087445907\n",
      "Batch Size: 256    TEST accuracy: 0.7205882352941176   VALIDATION accuracy: 0.64\n",
      "Epoch: 8\n",
      "Convergence: 178214 Iterations\n",
      "Norm of gradient: 0.005499994835989159\n",
      "Batch Size: 256    TEST accuracy: 0.6470588235294118   VALIDATION accuracy: 0.64\n",
      "Epoch: 9\n",
      "Convergence: 10859 Iterations\n",
      "Norm of gradient: 0.005499086577799418\n",
      "Batch Size: 256    TEST accuracy: 0.6029411764705882   VALIDATION accuracy: 0.56\n",
      "Epoch: 10\n",
      "Convergence: 5819 Iterations\n",
      "Norm of gradient: 0.005499239162398679\n",
      "Batch Size: 256    TEST accuracy: 0.6764705882352942   VALIDATION accuracy: 0.6\n",
      "\n",
      " LEARNING RATE: 0.0002, MAXIMUM ITERATIONS: 1000000.0\n",
      "Epoch: 1\n",
      "Convergence: 0 Iterations\n",
      "Norm of gradient: inf\n",
      "Batch Size: 32    TEST accuracy: 0.5588235294117647   VALIDATION accuracy: 0.5\n",
      "Epoch: 2\n",
      "Convergence: 533956 Iterations\n",
      "Norm of gradient: 0.00549999972174165\n",
      "Batch Size: 32    TEST accuracy: 0.5588235294117647   VALIDATION accuracy: 0.51\n",
      "Epoch: 3\n",
      "Convergence: 877778 Iterations\n",
      "Norm of gradient: 0.005499996893220988\n"
     ]
    },
    {
     "ename": "KeyboardInterrupt",
     "evalue": "",
     "output_type": "error",
     "traceback": [
      "\u001b[0;31m---------------------------------------------------------------------------\u001b[0m",
      "\u001b[0;31mKeyboardInterrupt\u001b[0m                         Traceback (most recent call last)",
      "\u001b[0;32m<ipython-input-3-4c7b4563cb5a>\u001b[0m in \u001b[0;36m<module>\u001b[0;34m\u001b[0m\n\u001b[1;32m      1\u001b[0m \u001b[0;32mfor\u001b[0m \u001b[0mx\u001b[0m \u001b[0;32min\u001b[0m \u001b[0;34m[\u001b[0m\u001b[0;36m0.2\u001b[0m\u001b[0;34m,\u001b[0m\u001b[0;36m0.8\u001b[0m\u001b[0;34m]\u001b[0m\u001b[0;34m:\u001b[0m\u001b[0;34m\u001b[0m\u001b[0;34m\u001b[0m\u001b[0m\n\u001b[1;32m      2\u001b[0m     \u001b[0;32mfor\u001b[0m \u001b[0ms\u001b[0m \u001b[0;32min\u001b[0m \u001b[0;34m[\u001b[0m\u001b[0;36m32\u001b[0m\u001b[0;34m,\u001b[0m\u001b[0;36m256\u001b[0m\u001b[0;34m]\u001b[0m\u001b[0;34m:\u001b[0m\u001b[0;34m\u001b[0m\u001b[0;34m\u001b[0m\u001b[0m\n\u001b[0;32m----> 3\u001b[0;31m         \u001b[0mminiBatch\u001b[0m\u001b[0;34m(\u001b[0m\u001b[0mdata\u001b[0m\u001b[0;34m=\u001b[0m\u001b[0mtrain\u001b[0m\u001b[0;34m,\u001b[0m \u001b[0mmax_iter\u001b[0m\u001b[0;34m=\u001b[0m\u001b[0;36m1e6\u001b[0m\u001b[0;34m,\u001b[0m \u001b[0malpha\u001b[0m\u001b[0;34m=\u001b[0m\u001b[0;36m2e-4\u001b[0m\u001b[0;34m,\u001b[0m \u001b[0mpred_data\u001b[0m\u001b[0;34m=\u001b[0m\u001b[0mvalid\u001b[0m\u001b[0;34m,\u001b[0m \u001b[0msize\u001b[0m\u001b[0;34m=\u001b[0m\u001b[0ms\u001b[0m\u001b[0;34m,\u001b[0m \u001b[0mepoch\u001b[0m\u001b[0;34m=\u001b[0m\u001b[0;36m10\u001b[0m\u001b[0;34m,\u001b[0m \u001b[0me\u001b[0m\u001b[0;34m=\u001b[0m\u001b[0;36m5.5e-3\u001b[0m\u001b[0;34m,\u001b[0m\u001b[0mmom\u001b[0m\u001b[0;34m=\u001b[0m\u001b[0mx\u001b[0m\u001b[0;34m)\u001b[0m\u001b[0;34m\u001b[0m\u001b[0;34m\u001b[0m\u001b[0m\n\u001b[0m",
      "\u001b[0;32m<ipython-input-2-7e9077b0178e>\u001b[0m in \u001b[0;36mminiBatch\u001b[0;34m(data, max_iter, alpha, pred_data, size, epoch, e, mom)\u001b[0m\n\u001b[1;32m     14\u001b[0m     model = mgd.LogisticRegression(verbose=True,add_bias=True,learning_rate=alpha, max_iters=max_iter,\n\u001b[1;32m     15\u001b[0m                                   epsilon=e, momentum=mom, batchSize=size, epochs=epoch)\n\u001b[0;32m---> 16\u001b[0;31m     \u001b[0my\u001b[0m \u001b[0;34m=\u001b[0m \u001b[0mmodel\u001b[0m\u001b[0;34m.\u001b[0m\u001b[0mfit\u001b[0m\u001b[0;34m(\u001b[0m\u001b[0mXin\u001b[0m\u001b[0;34m,\u001b[0m\u001b[0mYin\u001b[0m\u001b[0;34m)\u001b[0m\u001b[0;34m\u001b[0m\u001b[0;34m\u001b[0m\u001b[0m\n\u001b[0m",
      "\u001b[0;32m~/Desktop/COMP551/COMP551-p2/src/final/mini_batch.py\u001b[0m in \u001b[0;36mfit\u001b[0;34m(self, x, y)\u001b[0m\n\u001b[1;32m     98\u001b[0m                             \u001b[0mg\u001b[0m \u001b[0;34m=\u001b[0m \u001b[0mself\u001b[0m\u001b[0;34m.\u001b[0m\u001b[0mgradient\u001b[0m\u001b[0;34m(\u001b[0m\u001b[0mX\u001b[0m\u001b[0;34m,\u001b[0m \u001b[0mY\u001b[0m\u001b[0;34m)\u001b[0m\u001b[0;34m\u001b[0m\u001b[0;34m\u001b[0m\u001b[0m\n\u001b[1;32m     99\u001b[0m                         \u001b[0;32melse\u001b[0m\u001b[0;34m:\u001b[0m\u001b[0;34m\u001b[0m\u001b[0;34m\u001b[0m\u001b[0m\n\u001b[0;32m--> 100\u001b[0;31m                             \u001b[0mg\u001b[0m \u001b[0;34m=\u001b[0m \u001b[0mself\u001b[0m\u001b[0;34m.\u001b[0m\u001b[0mgradient\u001b[0m\u001b[0;34m(\u001b[0m\u001b[0mX\u001b[0m\u001b[0;34m,\u001b[0m\u001b[0mY\u001b[0m\u001b[0;34m,\u001b[0m\u001b[0mself\u001b[0m\u001b[0;34m.\u001b[0m\u001b[0mmomentum\u001b[0m\u001b[0;34m,\u001b[0m\u001b[0mg\u001b[0m\u001b[0;34m)\u001b[0m\u001b[0;34m\u001b[0m\u001b[0;34m\u001b[0m\u001b[0m\n\u001b[0m\u001b[1;32m    101\u001b[0m                         \u001b[0mself\u001b[0m\u001b[0;34m.\u001b[0m\u001b[0mw\u001b[0m \u001b[0;34m=\u001b[0m \u001b[0mself\u001b[0m\u001b[0;34m.\u001b[0m\u001b[0mw\u001b[0m \u001b[0;34m-\u001b[0m \u001b[0mself\u001b[0m\u001b[0;34m.\u001b[0m\u001b[0mlearning_rate\u001b[0m \u001b[0;34m*\u001b[0m \u001b[0mg\u001b[0m\u001b[0;34m\u001b[0m\u001b[0;34m\u001b[0m\u001b[0m\n\u001b[1;32m    102\u001b[0m                         \u001b[0mt\u001b[0m \u001b[0;34m+=\u001b[0m \u001b[0;36m1\u001b[0m\u001b[0;34m\u001b[0m\u001b[0;34m\u001b[0m\u001b[0m\n",
      "\u001b[0;32m~/Desktop/COMP551/COMP551-p2/src/final/mini_batch.py\u001b[0m in \u001b[0;36mgradient\u001b[0;34m(self, x, y, m, prevGrad)\u001b[0m\n\u001b[1;32m     22\u001b[0m     \u001b[0mN\u001b[0m\u001b[0;34m,\u001b[0m \u001b[0mD\u001b[0m \u001b[0;34m=\u001b[0m \u001b[0mx\u001b[0m\u001b[0;34m.\u001b[0m\u001b[0mshape\u001b[0m\u001b[0;34m\u001b[0m\u001b[0;34m\u001b[0m\u001b[0m\n\u001b[1;32m     23\u001b[0m     \u001b[0myh\u001b[0m \u001b[0;34m=\u001b[0m \u001b[0mlogistic\u001b[0m\u001b[0;34m(\u001b[0m\u001b[0mnp\u001b[0m\u001b[0;34m.\u001b[0m\u001b[0mdot\u001b[0m\u001b[0;34m(\u001b[0m\u001b[0mx\u001b[0m\u001b[0;34m,\u001b[0m \u001b[0mself\u001b[0m\u001b[0;34m.\u001b[0m\u001b[0mw\u001b[0m\u001b[0;34m)\u001b[0m\u001b[0;34m)\u001b[0m    \u001b[0;31m# y-hat, probability class\u001b[0m\u001b[0;34m\u001b[0m\u001b[0;34m\u001b[0m\u001b[0m\n\u001b[0;32m---> 24\u001b[0;31m     \u001b[0mgrad\u001b[0m \u001b[0;34m=\u001b[0m \u001b[0mnp\u001b[0m\u001b[0;34m.\u001b[0m\u001b[0mdot\u001b[0m\u001b[0;34m(\u001b[0m\u001b[0mx\u001b[0m\u001b[0;34m.\u001b[0m\u001b[0mT\u001b[0m\u001b[0;34m,\u001b[0m \u001b[0myh\u001b[0m \u001b[0;34m-\u001b[0m \u001b[0my\u001b[0m\u001b[0;34m)\u001b[0m\u001b[0;34m/\u001b[0m\u001b[0mN\u001b[0m        \u001b[0;31m# divide by N because cost is mean over N points\u001b[0m\u001b[0;34m\u001b[0m\u001b[0;34m\u001b[0m\u001b[0m\n\u001b[0m\u001b[1;32m     25\u001b[0m     \u001b[0mgradm\u001b[0m \u001b[0;34m=\u001b[0m \u001b[0;34m(\u001b[0m\u001b[0mm\u001b[0m\u001b[0;34m*\u001b[0m\u001b[0mprevGrad\u001b[0m\u001b[0;34m)\u001b[0m \u001b[0;34m+\u001b[0m \u001b[0;34m(\u001b[0m\u001b[0;34m(\u001b[0m\u001b[0;36m1\u001b[0m\u001b[0;34m-\u001b[0m\u001b[0mm\u001b[0m\u001b[0;34m)\u001b[0m\u001b[0;34m*\u001b[0m\u001b[0mgrad\u001b[0m\u001b[0;34m)\u001b[0m \u001b[0;31m# calculate gradient w.r.t momentum, if m=0, then gradm=grad\u001b[0m\u001b[0;34m\u001b[0m\u001b[0;34m\u001b[0m\u001b[0m\n\u001b[1;32m     26\u001b[0m     \u001b[0;32mreturn\u001b[0m \u001b[0mgradm\u001b[0m\u001b[0;34m\u001b[0m\u001b[0;34m\u001b[0m\u001b[0m\n",
      "\u001b[0;32m<__array_function__ internals>\u001b[0m in \u001b[0;36mdot\u001b[0;34m(*args, **kwargs)\u001b[0m\n",
      "\u001b[0;31mKeyboardInterrupt\u001b[0m: "
     ]
    }
   ],
   "source": [
    "for x in [0.2,0.8]: \n",
    "    for s in [32,256]:\n",
    "        miniBatch(data=train, max_iter=1e6, alpha=2e-4, pred_data=valid, size=s, epoch=10, e=5.5e-3,mom=x)"
   ]
  },
  {
   "cell_type": "code",
   "execution_count": 7,
   "id": "79224d6d",
   "metadata": {},
   "outputs": [
    {
     "name": "stdout",
     "output_type": "stream",
     "text": [
      "\n",
      " LEARNING RATE: 0.0002\n",
      "Convergence: 848412 Iterations\n",
      "Norm of gradient: 0.0014999994796325523\n",
      "Accuracy Score: 0.7058823529411765\n",
      "Maximum Test Accuracy achieved: 0.7058823529411765 for the combination [0.0002] and [1000000.0]\n",
      "\n",
      " LEARNING RATE: 0.0002\n",
      "Convergence: 848413 Iterations\n",
      "Norm of gradient: 0.0014999982811076313\n",
      "Accuracy Score: 0.7058823529411765\n",
      "Maximum Test Accuracy achieved: 0.7058823529411765 for the combination [0.0002] and [1000000.0]\n",
      "\n",
      " LEARNING RATE: 0.0002\n",
      "Convergence: 848414 Iterations\n",
      "Norm of gradient: 0.0014999994161790106\n",
      "Accuracy Score: 0.7058823529411765\n",
      "Maximum Test Accuracy achieved: 0.7058823529411765 for the combination [0.0002] and [1000000.0]\n"
     ]
    }
   ],
   "source": [
    "for x in [0.2,0.6,0.8]:\n",
    "    optimize(data=train, max_iter=[1e6], learning_rate=[2e-4], pred_data=test,mom=x, e=1.5e-3)"
   ]
  },
  {
   "cell_type": "markdown",
   "id": "32a8afe8",
   "metadata": {},
   "source": [
    "## Part 1.4 Momentum in small mini-batch and large mini-batch gradient descent"
   ]
  },
  {
   "cell_type": "code",
   "execution_count": null,
   "id": "a988511a",
   "metadata": {},
   "outputs": [],
   "source": []
  },
  {
   "cell_type": "markdown",
   "id": "86adb7e3",
   "metadata": {},
   "source": [
    "# Part 2: Text Classification with Fake News Dataset"
   ]
  },
  {
   "cell_type": "code",
   "execution_count": null,
   "id": "28ab79df",
   "metadata": {},
   "outputs": [],
   "source": [
    "fake_news_training = pd.read_csv('../data/fake_news/fake_news_train.csv')\n",
    "fake_news_validation = pd.read_csv('../data/fake_news/fake_news_val.csv')\n",
    "fake_news_test = pd.read_csv('../data/fake_news/fake_news_test.csv')\n"
   ]
  },
  {
   "cell_type": "markdown",
   "id": "9d555717",
   "metadata": {
    "pycharm": {
     "name": "#%% md\n"
    }
   },
   "source": [
    "### Base case"
   ]
  },
  {
   "cell_type": "code",
   "execution_count": null,
   "id": "ac3f63da",
   "metadata": {},
   "outputs": [],
   "source": [
    "vectorizer = CountVectorizer()\n",
    "\n",
    "vectorizer.fit(fake_news_training['text'])\n",
    "training_features = vectorizer.transform(fake_news_training['text'])\n",
    "validation_features = vectorizer.transform(fake_news_validation['text'])\n",
    "\n",
    "# Model Training\n",
    "clf = LogisticRegression(max_iter=1000, C=4.25e-02)\n",
    "clf.fit(training_features, fake_news_training['label'])\n",
    "\n",
    "# Model Prediction\n",
    "y_pred = clf.predict(validation_features)\n",
    "y_true = fake_news_validation['label']\n",
    "\n",
    "accuracy = metrics.accuracy_score(y_true, y_pred)\n",
    "\n",
    "print(f'base accuracy of model on validation set: {accuracy}')"
   ]
  },
  {
   "cell_type": "markdown",
   "id": "02dab71f",
   "metadata": {},
   "source": [
    "### Preprocessing\n",
    "\n",
    "In NLP questions, preprocessing decision for data are extremely important.\n",
    "For the following problem the different preprocessing decisions that were explored were:\n",
    "\n",
    "* n-grams\n",
    "* stopword removal\n",
    "* token selection\n",
    "\n",
    "The CountVectorizer below has been set with the values that we determined for the model through training.\n",
    "\n",
    "### Hyper parameter training\n",
    "\n",
    "Once a solid set of preprocessign results with a good general model were\n",
    "constructed, the model had to be trained on certain hyperpramateres.\n",
    "\n",
    "* the value of C\n",
    "* minimum document frequency\n",
    "* maximum document frequency\n",
    "* maximum number of features\n",
    "\n",
    "On further training it was noted that min_df value did not really matter as only the top 300,000 features were\n",
    "being used."
   ]
  },
  {
   "cell_type": "code",
   "execution_count": null,
   "id": "bc164b13",
   "metadata": {
    "pycharm": {
     "name": "#%%\n"
    }
   },
   "outputs": [],
   "source": [
    "# The final model\n",
    "\n",
    "# Feature Extraction\n",
    "vectorizer = CountVectorizer(ngram_range=(1, 2), token_pattern=r\"\\b[^\\d\\W]+\\b|\\b[0-9]+\\b\", min_df=3, max_features=300000)\n",
    "vectorizer.fit(fake_news_training['text'])\n",
    "training_features = vectorizer.transform(fake_news_training['text'])\n",
    "validation_features = vectorizer.transform(fake_news_validation['text'])\n",
    "\n",
    "# Model Training\n",
    "clf = LogisticRegression(max_iter=1000, C=4.25e-02)\n",
    "clf.fit(training_features, fake_news_training['label'])\n",
    "\n",
    "# Model Prediction\n",
    "y_pred = clf.predict(validation_features)\n",
    "y_true = fake_news_validation['label']\n",
    "\n",
    "accuracy = metrics.accuracy_score(y_true, y_pred)\n",
    "confusion = metrics.confusion_matrix(y_true, y_pred)\n",
    "precision = metrics.precision_score(y_true, y_pred)\n",
    "recall = metrics.recall_score(y_true, y_pred)\n",
    "\n",
    "print(f'Best model has accuracy: {accuracy}%, precision: {precision}%, and reacll: {recall}')\n",
    "print(\"Confusion Matrix:\")\n",
    "print(confusion)"
   ]
  },
  {
   "cell_type": "markdown",
   "id": "dbe54bf7",
   "metadata": {},
   "source": [
    "## HyperParam testing data\n",
    "\n",
    "The data recieved on testing the data with different hyperparameters for using LogisticRegressionCV\n",
    "\n",
    "Note: The data below was collected through multiple tests and iterations of the code, and compiled for visualization below. \n",
    "\n",
    "### C values"
   ]
  },
  {
   "cell_type": "code",
   "execution_count": null,
   "id": "b251eb82",
   "metadata": {
    "pycharm": {
     "name": "#%%\n"
    }
   },
   "outputs": [],
   "source": [
    "Cs = [0.000774263683, 0.0059948425, 0.01, 0.01, 0.035, 0.0375, 0.04, 0.04, 0.0425, 0.045, 0.0464158883, 0.07, 0.09, 0.359381366, 0.5, 0.75, 1, 1.25, 1.5, 2, 2.7825594]\n",
    "mean_acc_c = [0.7344, 0.76475, 0.7613, 0.76535, 0.7688, 0.76915, 0.7655, 0.766, 0.76945, 0.7695, 0.76965, 0.76825, 0.76515, 0.76495, 0.76075, 0.76935, 0.76805, 0.7682, 0.7694, 0.7657, 0.7651]\n",
    "max_acc_c = [0.74275, 0.77175, 0.77675, 0.7775, 0.779, 0.77975, 0.778, 0.779, 0.7805, 0.7805, 0.7805, 0.7755, 0.78, 0.78075, 0.77625, 0.781, 0.78025, 0.7815, 0.781, 0.77775, 0.78175]\n",
    "df = pd.DataFrame(list(zip(Cs, mean_acc_c, max_acc_c)), columns=[\"C values\", \"Mean accuracy\", \"Max accuracy\"])\n",
    "\n",
    "plt.plot('C values', 'Mean accuracy', data=df, marker='', color=\"olive\")\n",
    "plt.plot('C values', 'Max accuracy', data=df, marker='', color=\"pink\")\n",
    "\n",
    "plt.legend()\n",
    "plt.grid()\n",
    "\n",
    "plt.show()\n",
    "plt.savefig(\"C-vals_complete.png\")"
   ]
  },
  {
   "cell_type": "markdown",
   "id": "9e07b001",
   "metadata": {},
   "source": [
    "### C values on final iteration\n",
    "\n",
    "C value was finally picked as 0.0425"
   ]
  },
  {
   "cell_type": "code",
   "execution_count": null,
   "id": "fdc7a761",
   "metadata": {
    "pycharm": {
     "name": "#%%\n"
    }
   },
   "outputs": [],
   "source": [
    "Cs = [ 0.035, 0.0375, 0.04, 0.04, 0.0425, 0.045, 0.0464158883]\n",
    "mean_acc_c = [ 0.7688, 0.76915, 0.7655, 0.766, 0.76945, 0.7695, 0.76965]\n",
    "max_acc_c = [ 0.779, 0.77975, 0.778, 0.779, 0.7805, 0.7805, 0.7805]\n",
    "df = pd.DataFrame(list(zip(Cs, mean_acc_c, max_acc_c)), columns=[\"C values\", \"Mean accuracy\", \"Max accuracy\"])\n",
    "\n",
    "plt.plot('C values', 'Mean accuracy', data=df, marker='', color=\"olive\")\n",
    "plt.plot('C values', 'Max accuracy', data=df, marker='', color=\"pink\")\n",
    "\n",
    "plt.legend()\n",
    "plt.grid()\n",
    "\n",
    "for i,j in zip(Cs,mean_acc_c):\n",
    "    plt.annotate(str(j),xy=(i,j))\n",
    "\n",
    "for i,j in zip(Cs,max_acc_c):\n",
    "    plt.annotate(str(j),xy=(i,j))\n",
    "\n",
    "plt.show()\n",
    "plt.savefig(\"C-vals_final.png\")"
   ]
  },
  {
   "cell_type": "markdown",
   "id": "e58f7c20",
   "metadata": {},
   "source": [
    "### max_feature hyperparameter tuning\n",
    "\n",
    "Through this data we picked 300000 as our max number of features"
   ]
  },
  {
   "cell_type": "code",
   "execution_count": null,
   "id": "c26f312b",
   "metadata": {
    "pycharm": {
     "name": "#%%\n"
    }
   },
   "outputs": [],
   "source": [
    "max = [50000, 100000, 150000, 200000, 250000, 300000, 350000]\n",
    "mean_acc_c = [0.758, 0.76445, 0.76545, 0.76725, 0.76755, 0.7678, 0.7683]\n",
    "max_acc_c = [0.76875, 0.77575, 0.77825, 0.7785, 0.7805, 0.77925, 0.779]\n",
    "validation = [0.7825, 0.7855, 0.76875, 0.77825, 0.7855, 0.7865, 0.7865]\n",
    "\n",
    "df = pd.DataFrame(list(zip(max, mean_acc_c, max_acc_c, validation)), columns=[\"C values\", \"Mean accuracy\", \"Max accuracy\", \"Acc. on validation\"])\n",
    "\n",
    "plt.plot('C values', 'Mean accuracy', data=df, marker='', color=\"olive\")\n",
    "plt.plot('C values', 'Max accuracy', data=df, marker='', color=\"pink\")\n",
    "plt.plot('C values', 'Acc. on validation', data=df, marker='', color=\"cyan\")\n",
    "\n",
    "plt.legend()\n",
    "plt.grid()\n",
    "\n",
    "for i,j in zip(max,mean_acc_c):\n",
    "    plt.annotate(str(j),xy=(i,j))\n",
    "\n",
    "for i,j in zip(max,max_acc_c):\n",
    "    plt.annotate(str(j),xy=(i,j))\n",
    "\n",
    "for i,j in zip(max,validation):\n",
    "    plt.annotate(str(j),xy=(i,j))\n",
    "\n",
    "plt.show()\n",
    "plt.savefig(\"max-feature-vals-complete.png\")\n"
   ]
  }
 ],
 "metadata": {
  "kernelspec": {
   "display_name": "Python 3",
   "language": "python",
   "name": "python3"
  },
  "language_info": {
   "codemirror_mode": {
    "name": "ipython",
    "version": 3
   },
   "file_extension": ".py",
   "mimetype": "text/x-python",
   "name": "python",
   "nbconvert_exporter": "python",
   "pygments_lexer": "ipython3",
   "version": "3.8.8"
  }
 },
 "nbformat": 4,
 "nbformat_minor": 5
}
